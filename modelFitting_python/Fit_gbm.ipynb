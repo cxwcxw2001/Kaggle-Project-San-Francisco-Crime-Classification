{
 "cells": [
  {
   "cell_type": "code",
   "execution_count": 2,
   "metadata": {
    "collapsed": true
   },
   "outputs": [],
   "source": [
    "import pandas as pd\n",
    "import numpy as np\n",
    "from datetime import datetime\n",
    "from sklearn.cross_validation import StratifiedKFold\n",
    "from sklearn.grid_search import GridSearchCV\n",
    "from sklearn import preprocessing\n",
    "from sklearn.ensemble import GradientBoostingClassifier"
   ]
  },
  {
   "cell_type": "code",
   "execution_count": 3,
   "metadata": {
    "collapsed": false
   },
   "outputs": [
    {
     "name": "stdout",
     "output_type": "stream",
     "text": [
      "Reading in Training data...\n",
      "\n"
     ]
    }
   ],
   "source": [
    "print \"Reading in Training data...\\n\"\n",
    "train_df=pd.read_csv(\"//Users/xiaoweichen/Kaggle/SFCrimeClassification/train.csv\")"
   ]
  },
  {
   "cell_type": "code",
   "execution_count": 4,
   "metadata": {
    "collapsed": true
   },
   "outputs": [],
   "source": [
    "def parse_time(original_date):\n",
    "    new_date=datetime.strptime(original_date,\"%Y-%m-%d %H:%M:%S\")\n",
    "    Hour=new_date.hour\n",
    "    Month=new_date.month\n",
    "    Year=new_date.year\n",
    "    return Hour,Month,Year"
   ]
  },
  {
   "cell_type": "code",
   "execution_count": 5,
   "metadata": {
    "collapsed": false
   },
   "outputs": [],
   "source": [
    "def parse_data(df,addr_crime_prob,crimes):\n",
    "    feature_list=df.columns.tolist()\n",
    "    # Remove useless columns\n",
    "    if \"Descript\" in feature_list:\n",
    "        feature_list.remove(\"Descript\")\n",
    "    if \"Resolution\" in feature_list:\n",
    "        feature_list.remove(\"Resolution\")\n",
    "    if \"Id\" in feature_list:\n",
    "        feature_list.remove(\"Id\")\n",
    "    if \"PdDistrict\" in feature_list:\n",
    "        feature_list.remove(\"PdDistrict\")\n",
    "    if \"X\" in feature_list:\n",
    "        feature_list.remove(\"X\")\n",
    "    if \"Y\" in feature_list:\n",
    "        feature_list.remove(\"Y\")    \n",
    "    \n",
    "    cleanData=df[feature_list]\n",
    "    cleanData.index=range(len(df))\n",
    "    \n",
    "    print \"Performing Count featurization for address...\\n\"\n",
    "    address_feature=cleanData[\"Address\"].apply(lambda x:addr_crime_prob[x])\n",
    "    address_feature.columns=[str(crime) + \" PROBABILITY\" for crime in crimes]\n",
    "    \n",
    "    print \"Parsing date...\\n\"\n",
    "    cleanData[\"Hour\"],cleanData[\"Month\"],cleanData[\"Year\"]=zip(*cleanData[\"Dates\"].apply(parse_time))\n",
    "    \n",
    "    print \"Creating one-hot variables...\\n\"\n",
    "    dummy_dayOfWeek=pd.get_dummies(cleanData[\"DayOfWeek\"])\n",
    "    cleanData[\"IsIntersection\"]=cleanData[\"Address\"].apply(lambda x: 1 if \"/\" in x else 0)\n",
    "    \n",
    "    # Dropping processed columns\n",
    "    cleanData=cleanData.drop(\"Address\",axis=1)\n",
    "    cleanData=cleanData.drop(\"Dates\",axis=1)\n",
    "    cleanData=cleanData.drop(\"DayOfWeek\",axis=1)\n",
    "    if \"Category\" in cleanData.columns.tolist():\n",
    "        cleanData=cleanData.drop(\"Category\",axis=1)\n",
    "    \n",
    "    print \"Joining one-hot features...\\n\"\n",
    "    features=cleanData.join(dummy_dayOfWeek).join(address_feature)\n",
    "    \n",
    "    if \"Category\" in df.columns:\n",
    "        response=df[\"Category\"].astype(\"category\")\n",
    "    else:\n",
    "        response=None\n",
    "        \n",
    "    print \"Done!\"\n",
    "    return features,response"
   ]
  },
  {
   "cell_type": "code",
   "execution_count": 6,
   "metadata": {
    "collapsed": false
   },
   "outputs": [],
   "source": [
    "addresses=sorted(train_df[\"Address\"].unique())\n",
    "crimes=train_df[\"Category\"].unique()\n",
    "addr_counts=train_df.groupby([\"Address\"]).size()\n",
    "crime_counts=train_df.groupby(\"Category\").size()\n",
    "addr_crime_counts=train_df.groupby([\"Address\",\"Category\"]).size()\n",
    "addr_crime_prob={}\n",
    "for addr in addresses:\n",
    "    addr_crime_prob[addr]=0.0*crime_counts\n",
    "    for crime in crimes:\n",
    "        if crime in addr_crime_counts[addr].keys():\n",
    "            addr_crime_prob[addr][crime]=addr_crime_counts[addr][crime]/float(addr_counts[addr])\n",
    "    addr_crime_prob[addr]=pd.Series(addr_crime_prob[addr])\n",
    "    addr_crime_prob[addr].index=range(len(crimes))"
   ]
  },
  {
   "cell_type": "code",
   "execution_count": 7,
   "metadata": {
    "collapsed": false
   },
   "outputs": [
    {
     "name": "stdout",
     "output_type": "stream",
     "text": [
      "Performing Count featurization for address...\n",
      "\n",
      "Parsing date...\n",
      "\n",
      "Creating one-hot variables...\n"
     ]
    },
    {
     "name": "stderr",
     "output_type": "stream",
     "text": [
      "/Users/xiaoweichen/AnacondaPython/anaconda/lib/python2.7/site-packages/ipykernel/__main__.py:25: SettingWithCopyWarning: \n",
      "A value is trying to be set on a copy of a slice from a DataFrame.\n",
      "Try using .loc[row_indexer,col_indexer] = value instead\n",
      "\n",
      "See the caveats in the documentation: http://pandas.pydata.org/pandas-docs/stable/indexing.html#indexing-view-versus-copy\n",
      "/Users/xiaoweichen/AnacondaPython/anaconda/lib/python2.7/site-packages/ipykernel/__main__.py:29: SettingWithCopyWarning: \n",
      "A value is trying to be set on a copy of a slice from a DataFrame.\n",
      "Try using .loc[row_indexer,col_indexer] = value instead\n",
      "\n",
      "See the caveats in the documentation: http://pandas.pydata.org/pandas-docs/stable/indexing.html#indexing-view-versus-copy\n"
     ]
    },
    {
     "name": "stdout",
     "output_type": "stream",
     "text": [
      "\n",
      "Joining one-hot features...\n",
      "\n",
      "Done!\n"
     ]
    }
   ],
   "source": [
    "features,response=parse_data(train_df,addr_crime_prob,crimes)"
   ]
  },
  {
   "cell_type": "code",
   "execution_count": 8,
   "metadata": {
    "collapsed": false
   },
   "outputs": [
    {
     "name": "stdout",
     "output_type": "stream",
     "text": [
      "Fitting a gradient boosting classifer...\n",
      "\n"
     ]
    },
    {
     "data": {
      "text/plain": [
       "GradientBoostingClassifier(init=None, learning_rate=0.2, loss='deviance',\n",
       "              max_depth=3, max_features=None, max_leaf_nodes=None,\n",
       "              min_samples_leaf=1, min_samples_split=2,\n",
       "              min_weight_fraction_leaf=0.0, n_estimators=5,\n",
       "              random_state=None, subsample=1.0, verbose=0,\n",
       "              warm_start=False)"
      ]
     },
     "execution_count": 8,
     "metadata": {},
     "output_type": "execute_result"
    }
   ],
   "source": [
    "print  \"Fitting a gradient boosting classifer...\\n\"\n",
    "gbc=GradientBoostingClassifier(learning_rate=0.2,n_estimators=5)\n",
    "gbc.fit(features,response)"
   ]
  },
  {
   "cell_type": "code",
   "execution_count": null,
   "metadata": {
    "collapsed": false
   },
   "outputs": [],
   "source": [
    "print \"Reading in testing data set...\\n\"\n",
    "test_df=pd.read_csv(\"//Users/xiaoweichen/Kaggle/SFCrimeClassification/test.csv\")\n",
    "print \"Transform testing data set...\\n\"\n",
    "addresses=sorted(train_df[\"Address\"].unique())\n",
    "testing_addresses=sorted(test_df[\"Address\"].unique())\n",
    "new_addresses=set(testing_addresses+addresses)-set(addresses)\n",
    "default_crime_prob=crime_counts/len(train_df)\n",
    "for addr in new_addresses:\n",
    "    addr_crime_prob[addr]=default_crime_prob\n",
    "    addr_crime_prob[addr].index=range(len(crimes))\n",
    "test_feature, _=parse_data(test_df,addr_crime_prob,crimes)"
   ]
  },
  {
   "cell_type": "code",
   "execution_count": null,
   "metadata": {
    "collapsed": false
   },
   "outputs": [],
   "source": [
    "print \"Making predictions...\\n\"\n",
    "pred=gbc.predict_proba(test_feature)\n",
    "\n",
    "output=pd.DataFrame(pred)\n",
    "output.columns=gbc.classes_\n",
    "output=output.join(test_df[\"Id\"])"
   ]
  },
  {
   "cell_type": "code",
   "execution_count": null,
   "metadata": {
    "collapsed": false
   },
   "outputs": [],
   "source": [
    "print \"Exporting predictions to Excel...\\n\"\n",
    "output.to_csv(\"python_gbc_countFeature.csv\",index=False)\n",
    "print \"Done!\""
   ]
  }
 ],
 "metadata": {
  "kernelspec": {
   "display_name": "Python 2",
   "language": "python",
   "name": "python2"
  },
  "language_info": {
   "codemirror_mode": {
    "name": "ipython",
    "version": 2
   },
   "file_extension": ".py",
   "mimetype": "text/x-python",
   "name": "python",
   "nbconvert_exporter": "python",
   "pygments_lexer": "ipython2",
   "version": "2.7.11"
  }
 },
 "nbformat": 4,
 "nbformat_minor": 0
}
