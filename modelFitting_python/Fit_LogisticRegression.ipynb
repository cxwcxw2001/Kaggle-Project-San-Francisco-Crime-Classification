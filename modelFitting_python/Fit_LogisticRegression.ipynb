{
 "cells": [
  {
   "cell_type": "code",
   "execution_count": 1,
   "metadata": {
    "collapsed": true
   },
   "outputs": [],
   "source": [
    "import pandas as pd\n",
    "import numpy as np\n",
    "from datetime import datetime\n",
    "from sklearn.cross_validation import StratifiedKFold\n",
    "from sklearn.grid_search import GridSearchCV\n",
    "from sklearn import preprocessing\n",
    "from sklearn.linear_model import LogisticRegression"
   ]
  },
  {
   "cell_type": "code",
   "execution_count": 2,
   "metadata": {
    "collapsed": false
   },
   "outputs": [
    {
     "name": "stdout",
     "output_type": "stream",
     "text": [
      "Reading in Training data...\n",
      "\n"
     ]
    }
   ],
   "source": [
    "print \"Reading in Training data...\\n\"\n",
    "train_df=pd.read_csv(\"//Users/xiaoweichen/Kaggle/SFCrimeClassification/train.csv\")"
   ]
  },
  {
   "cell_type": "code",
   "execution_count": 3,
   "metadata": {
    "collapsed": true
   },
   "outputs": [],
   "source": [
    "def parse_time(original_date):\n",
    "    new_date=datetime.strptime(original_date,\"%Y-%m-%d %H:%M:%S\")\n",
    "    Hour=new_date.hour\n",
    "    Month=new_date.month\n",
    "    Year=new_date.year\n",
    "    return Hour,Month,Year"
   ]
  },
  {
   "cell_type": "code",
   "execution_count": 4,
   "metadata": {
    "collapsed": false
   },
   "outputs": [],
   "source": [
    "def parse_data(df,addr_crime_prob,crimes):\n",
    "    feature_list=df.columns.tolist()\n",
    "    # Remove useless columns\n",
    "    if \"Descript\" in feature_list:\n",
    "        feature_list.remove(\"Descript\")\n",
    "    if \"Resolution\" in feature_list:\n",
    "        feature_list.remove(\"Resolution\")\n",
    "    if \"Id\" in feature_list:\n",
    "        feature_list.remove(\"Id\")\n",
    "    if \"PdDistrict\" in feature_list:\n",
    "        feature_list.remove(\"PdDistrict\")\n",
    "    if \"X\" in feature_list:\n",
    "        feature_list.remove(\"X\")\n",
    "    if \"Y\" in feature_list:\n",
    "        feature_list.remove(\"Y\")    \n",
    "    \n",
    "    cleanData=df[feature_list]\n",
    "    cleanData.index=range(len(df))\n",
    "    \n",
    "    print \"Performing Count featurization for address...\\n\"\n",
    "    address_feature=cleanData[\"Address\"].apply(lambda x:addr_crime_prob[x])\n",
    "    address_feature.columns=[str(crime) + \" PROBABILITY\" for crime in crimes]\n",
    "    \n",
    "    print \"Parsing date...\\n\"\n",
    "    cleanData[\"Hour\"],cleanData[\"Month\"],cleanData[\"Year\"]=zip(*cleanData[\"Dates\"].apply(parse_time))\n",
    "    \n",
    "    print \"Creating one-hot variables...\\n\"\n",
    "    dummy_dayOfWeek=pd.get_dummies(cleanData[\"DayOfWeek\"])\n",
    "    cleanData[\"IsIntersection\"]=cleanData[\"Address\"].apply(lambda x: 1 if \"/\" in x else 0)\n",
    "    \n",
    "    # Dropping processed columns\n",
    "    cleanData=cleanData.drop(\"Address\",axis=1)\n",
    "    cleanData=cleanData.drop(\"Dates\",axis=1)\n",
    "    cleanData=cleanData.drop(\"DayOfWeek\",axis=1)\n",
    "    if \"Category\" in cleanData.columns.tolist():\n",
    "        cleanData=cleanData.drop(\"Category\",axis=1)\n",
    "    \n",
    "    print \"Joining one-hot features...\\n\"\n",
    "    features=cleanData.join(dummy_dayOfWeek).join(address_feature)\n",
    "    \n",
    "    if \"Category\" in df.columns:\n",
    "        response=df[\"Category\"].astype(\"category\")\n",
    "    else:\n",
    "        response=None\n",
    "        \n",
    "    print \"Done!\"\n",
    "    return features,response"
   ]
  },
  {
   "cell_type": "code",
   "execution_count": 5,
   "metadata": {
    "collapsed": false
   },
   "outputs": [],
   "source": [
    "addresses=sorted(train_df[\"Address\"].unique())\n",
    "crimes=train_df[\"Category\"].unique()\n",
    "addr_counts=train_df.groupby([\"Address\"]).size()\n",
    "crime_counts=train_df.groupby(\"Category\").size()\n",
    "addr_crime_counts=train_df.groupby([\"Address\",\"Category\"]).size()\n",
    "addr_crime_prob={}\n",
    "for addr in addresses:\n",
    "    addr_crime_prob[addr]=0.0*crime_counts\n",
    "    for crime in crimes:\n",
    "        if crime in addr_crime_counts[addr].keys():\n",
    "            addr_crime_prob[addr][crime]=addr_crime_counts[addr][crime]/float(addr_counts[addr])\n",
    "    addr_crime_prob[addr]=pd.Series(addr_crime_prob[addr])\n",
    "    addr_crime_prob[addr].index=range(len(crimes))"
   ]
  },
  {
   "cell_type": "code",
   "execution_count": 6,
   "metadata": {
    "collapsed": false
   },
   "outputs": [
    {
     "name": "stdout",
     "output_type": "stream",
     "text": [
      "Performing Count featurization for address...\n",
      "\n",
      "Parsing date...\n",
      "\n",
      "Creating one-hot variables...\n"
     ]
    },
    {
     "name": "stderr",
     "output_type": "stream",
     "text": [
      "/Users/xiaoweichen/AnacondaPython/anaconda/lib/python2.7/site-packages/ipykernel/__main__.py:25: SettingWithCopyWarning: \n",
      "A value is trying to be set on a copy of a slice from a DataFrame.\n",
      "Try using .loc[row_indexer,col_indexer] = value instead\n",
      "\n",
      "See the caveats in the documentation: http://pandas.pydata.org/pandas-docs/stable/indexing.html#indexing-view-versus-copy\n",
      "/Users/xiaoweichen/AnacondaPython/anaconda/lib/python2.7/site-packages/ipykernel/__main__.py:29: SettingWithCopyWarning: \n",
      "A value is trying to be set on a copy of a slice from a DataFrame.\n",
      "Try using .loc[row_indexer,col_indexer] = value instead\n",
      "\n",
      "See the caveats in the documentation: http://pandas.pydata.org/pandas-docs/stable/indexing.html#indexing-view-versus-copy\n"
     ]
    },
    {
     "name": "stdout",
     "output_type": "stream",
     "text": [
      "\n",
      "Joining one-hot features...\n",
      "\n",
      "Done!\n"
     ]
    }
   ],
   "source": [
    "features,response=parse_data(train_df,addr_crime_prob,crimes)"
   ]
  },
  {
   "cell_type": "code",
   "execution_count": 7,
   "metadata": {
    "collapsed": false
   },
   "outputs": [],
   "source": [
    "# Perform feature standardization\n",
    "column_names=features.columns.tolist()\n",
    "scaler = preprocessing.StandardScaler()\n",
    "scaler.fit(features)\n",
    "features[column_names]=scaler.transform(features)"
   ]
  },
  {
   "cell_type": "code",
   "execution_count": 8,
   "metadata": {
    "collapsed": false
   },
   "outputs": [
    {
     "name": "stdout",
     "output_type": "stream",
     "text": [
      "Fitting a logistic regression model...\n",
      "\n"
     ]
    },
    {
     "data": {
      "text/plain": [
       "LogisticRegression(C=1.0, class_weight=None, dual=False, fit_intercept=True,\n",
       "          intercept_scaling=1, max_iter=100, multi_class='multinomial',\n",
       "          penalty='l2', random_state=None, solver='lbfgs', tol=0.0001,\n",
       "          verbose=0)"
      ]
     },
     "execution_count": 8,
     "metadata": {},
     "output_type": "execute_result"
    }
   ],
   "source": [
    "print  \"Fitting a logistic regression model...\\n\"\n",
    "lg=LogisticRegression(solver=\"sag\",multi_class=\"ovr\")\n",
    "lg.fit(features,response)"
   ]
  },
  {
   "cell_type": "code",
   "execution_count": 8,
   "metadata": {
    "collapsed": false
   },
   "outputs": [
    {
     "name": "stdout",
     "output_type": "stream",
     "text": [
      "Reading in testing data set...\n",
      "\n",
      "Transform testing data set...\n",
      "\n",
      "Performing Count featurization for address...\n",
      "\n",
      "Parsing date...\n",
      "\n",
      "Creating one-hot variables...\n",
      "\n",
      "Joining one-hot features...\n",
      "\n",
      "Done!\n"
     ]
    },
    {
     "name": "stderr",
     "output_type": "stream",
     "text": [
      "/Users/xiaoweichen/AnacondaPython/anaconda/lib/python2.7/site-packages/ipykernel/__main__.py:25: SettingWithCopyWarning: \n",
      "A value is trying to be set on a copy of a slice from a DataFrame.\n",
      "Try using .loc[row_indexer,col_indexer] = value instead\n",
      "\n",
      "See the caveats in the documentation: http://pandas.pydata.org/pandas-docs/stable/indexing.html#indexing-view-versus-copy\n"
     ]
    }
   ],
   "source": [
    "print \"Reading in testing data set...\\n\"\n",
    "test_df=pd.read_csv(\"//Users/xiaoweichen/Kaggle/SFCrimeClassification/test.csv\")\n",
    "print \"Transform testing data set...\\n\"\n",
    "addresses=sorted(train_df[\"Address\"].unique())\n",
    "testing_addresses=sorted(test_df[\"Address\"].unique())\n",
    "new_addresses=set(testing_addresses+addresses)-set(addresses)\n",
    "default_crime_prob=crime_counts/len(train_df)\n",
    "for addr in new_addresses:\n",
    "    addr_crime_prob[addr]=default_crime_prob\n",
    "    addr_crime_prob[addr].index=range(len(crimes))\n",
    "test_feature, _=parse_data(test_df,addr_crime_prob,crimes)"
   ]
  },
  {
   "cell_type": "code",
   "execution_count": 9,
   "metadata": {
    "collapsed": false
   },
   "outputs": [],
   "source": [
    "# Perform feature standardization\n",
    "column_names=test_feature.columns.tolist()\n",
    "scaler = preprocessing.StandardScaler()\n",
    "scaler.fit(test_feature)\n",
    "test_feature[column_names]=scaler.transform(test_feature)"
   ]
  },
  {
   "cell_type": "code",
   "execution_count": 10,
   "metadata": {
    "collapsed": false
   },
   "outputs": [
    {
     "name": "stdout",
     "output_type": "stream",
     "text": [
      "Making predictions...\n",
      "\n"
     ]
    },
    {
     "ename": "NameError",
     "evalue": "name 'lg' is not defined",
     "output_type": "error",
     "traceback": [
      "\u001b[0;31m---------------------------------------------------------------------------\u001b[0m",
      "\u001b[0;31mNameError\u001b[0m                                 Traceback (most recent call last)",
      "\u001b[0;32m<ipython-input-10-b4bc472d4ec5>\u001b[0m in \u001b[0;36m<module>\u001b[0;34m()\u001b[0m\n\u001b[1;32m      1\u001b[0m \u001b[0;32mprint\u001b[0m \u001b[0;34m\"Making predictions...\\n\"\u001b[0m\u001b[0;34m\u001b[0m\u001b[0m\n\u001b[0;32m----> 2\u001b[0;31m \u001b[0mpred\u001b[0m\u001b[0;34m=\u001b[0m\u001b[0mlg\u001b[0m\u001b[0;34m.\u001b[0m\u001b[0mpredict_proba\u001b[0m\u001b[0;34m(\u001b[0m\u001b[0mtest_feature\u001b[0m\u001b[0;34m)\u001b[0m\u001b[0;34m\u001b[0m\u001b[0m\n\u001b[0m\u001b[1;32m      3\u001b[0m \u001b[0;34m\u001b[0m\u001b[0m\n\u001b[1;32m      4\u001b[0m \u001b[0moutput\u001b[0m\u001b[0;34m=\u001b[0m\u001b[0mpd\u001b[0m\u001b[0;34m.\u001b[0m\u001b[0mDataFrame\u001b[0m\u001b[0;34m(\u001b[0m\u001b[0mpred\u001b[0m\u001b[0;34m)\u001b[0m\u001b[0;34m\u001b[0m\u001b[0m\n\u001b[1;32m      5\u001b[0m \u001b[0moutput\u001b[0m\u001b[0;34m.\u001b[0m\u001b[0mcolumns\u001b[0m\u001b[0;34m=\u001b[0m\u001b[0mlg\u001b[0m\u001b[0;34m.\u001b[0m\u001b[0mclasses_\u001b[0m\u001b[0;34m\u001b[0m\u001b[0m\n",
      "\u001b[0;31mNameError\u001b[0m: name 'lg' is not defined"
     ]
    }
   ],
   "source": [
    "print \"Making predictions...\\n\"\n",
    "pred=lg.predict_proba(test_feature)\n",
    "\n",
    "output=pd.DataFrame(pred)\n",
    "output.columns=lg.classes_\n",
    "output=output.join(test_df[\"Id\"])"
   ]
  },
  {
   "cell_type": "code",
   "execution_count": null,
   "metadata": {
    "collapsed": false
   },
   "outputs": [],
   "source": [
    "print \"Exporting predictions to Excel...\\n\"\n",
    "output.to_csv(\"python_lg_countFeature.csv\",index=False)\n",
    "print \"Done!\""
   ]
  }
 ],
 "metadata": {
  "kernelspec": {
   "display_name": "Python 2",
   "language": "python",
   "name": "python2"
  },
  "language_info": {
   "codemirror_mode": {
    "name": "ipython",
    "version": 2
   },
   "file_extension": ".py",
   "mimetype": "text/x-python",
   "name": "python",
   "nbconvert_exporter": "python",
   "pygments_lexer": "ipython2",
   "version": "2.7.11"
  }
 },
 "nbformat": 4,
 "nbformat_minor": 0
}
